{
 "cells": [
  {
   "cell_type": "code",
   "execution_count": 3,
   "metadata": {},
   "outputs": [],
   "source": [
    "import os\n",
    "import shutil\n",
    "import time\n",
    "import random\n",
    "import itertools\n",
    "import numpy as np\n",
    "import tensorflow as tf\n",
    "import matplotlib.pyplot as plt\n",
    "from tensorflow.keras.models import Model\n",
    "from tensorflow.keras.applications.resnet50 import ResNet50\n",
    "from tensorflow.keras.regularizers import l2\n",
    "from tensorflow.keras.callbacks import TensorBoard\n",
    "from tensorflow.keras.layers import Dense, GlobalAveragePooling2D, Dropout\n",
    "from tensorflow.keras.preprocessing.image import ImageDataGenerator\n",
    "from sklearn.metrics import accuracy_score, classification_report, confusion_matrix, f1_score, recall_score, precision_score"
   ]
  },
  {
   "cell_type": "code",
   "execution_count": 4,
   "metadata": {},
   "outputs": [],
   "source": [
    "# Define the path to the augmented dataset\n",
    "data_path = '/Users/jexpatel/Desktop/Image_Classification/Augmented Dataset'\n",
    "\n",
    "# Define the paths to the training, validation, and testing folders\n",
    "train_path = '/Users/jexpatel/Desktop/Image_Classification/Split Data/Train'\n",
    "valid_path = '/Users/jexpatel/Desktop/Image_Classification/Split Data/Valid'\n",
    "test_path = '/Users/jexpatel/Desktop/Image_Classification/Split Data/Test'\n",
    "\n",
    "# Define the class names\n",
    "class_names = ['Core', 'Well Logs']\n",
    "\n",
    "# Create the training, validation, and testing folders and subfolders\n",
    "for folder in [train_path, valid_path, test_path]:\n",
    "    for class_name in class_names:\n",
    "        os.makedirs(os.path.join(folder, class_name), exist_ok=True)\n",
    "\n",
    "# Loop through the class names\n",
    "for class_name in class_names:\n",
    "    # Get the path to the class folder in the augmented dataset\n",
    "    class_path = os.path.join(data_path, class_name)\n",
    "    \n",
    "    # Get the file names in the class folder\n",
    "    file_names = os.listdir(class_path)\n",
    "    \n",
    "    # Shuffle the file names\n",
    "    random.shuffle(file_names)\n",
    "    \n",
    "    # Split the file names into training, validation, and testing sets\n",
    "    train_split_index = int(len(file_names) * 0.35)\n",
    "    valid_split_index = int(len(file_names) * 0.7)\n",
    "    train_file_names = file_names[:train_split_index]\n",
    "    valid_file_names = file_names[train_split_index:valid_split_index]\n",
    "    test_file_names = file_names[valid_split_index:]\n",
    "    \n",
    "    # Move the training files to the training folder\n",
    "    for file_name in train_file_names:\n",
    "        src_path = os.path.join(class_path, file_name)\n",
    "        dst_path = os.path.join(train_path, class_name, file_name)\n",
    "        shutil.copyfile(src_path, dst_path)\n",
    "        \n",
    "    # Move the validation files to the validation folder\n",
    "    for file_name in valid_file_names:\n",
    "        src_path = os.path.join(class_path, file_name)\n",
    "        dst_path = os.path.join(valid_path, class_name, file_name)\n",
    "        shutil.copyfile(src_path, dst_path)\n",
    "        \n",
    "    # Move the testing files to the testing folder\n",
    "    for file_name in test_file_names:\n",
    "        src_path = os.path.join(class_path, file_name)\n",
    "        dst_path = os.path.join(test_path, class_name, file_name)\n",
    "        shutil.copyfile(src_path, dst_path)\n",
    "\n",
    "    "
   ]
  },
  {
   "cell_type": "code",
   "execution_count": 5,
   "metadata": {},
   "outputs": [],
   "source": [
    "# Define paths to the training data\n",
    "train_data_dir = '/Users/jexpatel/Desktop/Image_Classification/Split Data/Train'\n",
    "test_data_dir = '/Users/jexpatel/Desktop/Image_Classification/Split Data/Test'\n",
    "valid_data_dir = '/Users/jexpatel/Desktop/Image_Classification/Split Data/Valid'\n",
    "\n",
    "# Define data generators for training, validation, and test data\n",
    "batch_size = 32\n",
    "epochs = 10\n",
    "num_classes = len(os.listdir(train_data_dir))"
   ]
  },
  {
   "cell_type": "code",
   "execution_count": 6,
   "metadata": {},
   "outputs": [
    {
     "name": "stdout",
     "output_type": "stream",
     "text": [
      "Found 568 images belonging to 2 classes.\n",
      "Found 571 images belonging to 2 classes.\n",
      "Found 522 images belonging to 2 classes.\n"
     ]
    }
   ],
   "source": [
    "# Train the model on the new dataset\n",
    "train_datagen = ImageDataGenerator(\n",
    "    rescale=1./255,\n",
    "    rotation_range=50,\n",
    "    width_shift_range=0.5,\n",
    "    height_shift_range=0.5,\n",
    "    shear_range=0.5,\n",
    "    zoom_range=0.5,\n",
    "    horizontal_flip=True)\n",
    "\n",
    "valid_datagen = ImageDataGenerator(\n",
    "    rescale=1./255,\n",
    "    rotation_range=30,\n",
    "    width_shift_range=0.1,\n",
    "    height_shift_range=0.1,\n",
    "    shear_range=0.3,\n",
    "    zoom_range=0.2)\n",
    "\n",
    "datagen = ImageDataGenerator(rescale=1./255)\n",
    "\n",
    "train_generator = train_datagen.flow_from_directory(\n",
    "    train_data_dir,\n",
    "    target_size=(256, 256),\n",
    "    batch_size=batch_size,\n",
    "    class_mode='categorical')\n",
    "\n",
    "validation_generator = valid_datagen.flow_from_directory(\n",
    "    valid_data_dir,\n",
    "    target_size=(256, 256),\n",
    "    batch_size=batch_size,\n",
    "    class_mode='categorical')\n",
    "\n",
    "test_generator = datagen.flow_from_directory(\n",
    "    test_data_dir,\n",
    "    target_size=(256, 256),\n",
    "    batch_size=batch_size,\n",
    "    class_mode='categorical')"
   ]
  },
  {
   "cell_type": "code",
   "execution_count": 21,
   "metadata": {},
   "outputs": [],
   "source": [
    "# Load ResNet50 model pre-trained on ImageNet\n",
    "base_model = ResNet50(weights='imagenet', include_top=False)\n",
    "\n",
    "# Add a global spatial average pooling layer\n",
    "x = base_model.output\n",
    "x = GlobalAveragePooling2D()(x)\n",
    "\n",
    "# Add a fully connected layer with 1024 hidden units and ReLU activation, with L2 regularization\n",
    "x = Dense(1024, activation='relu', kernel_regularizer=l2(0.1))(x)\n",
    "\n",
    "# Add a dropout layer with a rate of 0.5\n",
    "x = Dropout(rate=0.8)(x)\n",
    "\n",
    "# Add an output layer with as many neurons as the number of classes to predict\n",
    "predictions = Dense(num_classes, activation='softmax')(x)\n",
    "\n",
    "# Define the transfer learning model\n",
    "model = Model(inputs=base_model.input, outputs=predictions)\n",
    "\n",
    "# Freeze the layers of the pre-trained model to prevent their weights from being updated during training\n",
    "for layer in base_model.layers:\n",
    "    layer.trainable = False\n",
    "    \n",
    "# Compile the model with categorical cross-entropy loss and Adam optimizer\n",
    "model.compile(optimizer='adam', loss='categorical_crossentropy', metrics=['accuracy'])"
   ]
  },
  {
   "cell_type": "code",
   "execution_count": 22,
   "metadata": {},
   "outputs": [
    {
     "name": "stdout",
     "output_type": "stream",
     "text": [
      "Epoch 1/10\n",
      "18/18 [==============================] - 85s 5s/step - loss: 80.3888 - accuracy: 0.7324 - val_loss: 33.9668 - val_accuracy: 0.8809\n",
      "Epoch 2/10\n",
      "18/18 [==============================] - 82s 5s/step - loss: 17.2267 - accuracy: 0.7975 - val_loss: 6.1548 - val_accuracy: 0.8406\n",
      "Epoch 3/10\n",
      "18/18 [==============================] - 82s 5s/step - loss: 3.4594 - accuracy: 0.8275 - val_loss: 1.7159 - val_accuracy: 0.9527\n",
      "Epoch 4/10\n",
      "18/18 [==============================] - 82s 5s/step - loss: 1.4844 - accuracy: 0.8468 - val_loss: 1.0762 - val_accuracy: 0.9194\n",
      "Epoch 5/10\n",
      "18/18 [==============================] - 82s 5s/step - loss: 1.0924 - accuracy: 0.8521 - val_loss: 0.8260 - val_accuracy: 0.9335\n",
      "Epoch 6/10\n",
      "18/18 [==============================] - 81s 5s/step - loss: 0.9048 - accuracy: 0.8539 - val_loss: 0.7603 - val_accuracy: 0.8739\n",
      "Epoch 7/10\n",
      "18/18 [==============================] - 82s 5s/step - loss: 0.7718 - accuracy: 0.8398 - val_loss: 0.5956 - val_accuracy: 0.9422\n",
      "Epoch 8/10\n",
      "18/18 [==============================] - 82s 5s/step - loss: 0.7290 - accuracy: 0.8398 - val_loss: 0.5541 - val_accuracy: 0.9037\n",
      "Epoch 9/10\n",
      "18/18 [==============================] - 82s 5s/step - loss: 0.6727 - accuracy: 0.8468 - val_loss: 0.5002 - val_accuracy: 0.9632\n",
      "Epoch 10/10\n",
      "18/18 [==============================] - 83s 5s/step - loss: 0.5644 - accuracy: 0.8697 - val_loss: 0.4728 - val_accuracy: 0.8967\n"
     ]
    }
   ],
   "source": [
    "NAME = \"Image_Classification{}\".format(int(time.time()))\n",
    "\n",
    "# Define logs path for model logs\n",
    "tensorboard = TensorBoard(log_dir = 'logs/{}'.format(NAME), histogram_freq=1)\n",
    "\n",
    "# Train the model\n",
    "history = model.fit(train_generator, epochs=epochs, validation_data=validation_generator, callbacks=[tensorboard])"
   ]
  },
  {
   "cell_type": "code",
   "execution_count": 20,
   "metadata": {},
   "outputs": [
    {
     "name": "stdout",
     "output_type": "stream",
     "text": [
      "17/17 - 36s - loss: 0.4517 - accuracy: 0.9540\n",
      "Test accuracy: 0.954023003578186\n"
     ]
    }
   ],
   "source": [
    "# Evaluate the model on the test set\n",
    "test_loss, test_acc = model.evaluate(test_generator, verbose=2, callbacks=[tensorboard])\n",
    "print('Test accuracy:', test_acc)"
   ]
  },
  {
   "cell_type": "code",
   "execution_count": 16,
   "metadata": {},
   "outputs": [
    {
     "name": "stdout",
     "output_type": "stream",
     "text": [
      "Classification Report:\n",
      "               precision    recall  f1-score   support\n",
      "\n",
      "        Core       0.50      0.55      0.52       262\n",
      "   Well Logs       0.50      0.45      0.47       260\n",
      "\n",
      "    accuracy                           0.50       522\n",
      "   macro avg       0.50      0.50      0.50       522\n",
      "weighted avg       0.50      0.50      0.50       522\n",
      "\n",
      "F1 Score: 0.4969320241378409\n",
      "Recall: 0.49808429118773945\n",
      "Accuracy: 0.49808429118773945\n",
      "Precision: 0.4978894733424248\n"
     ]
    },
    {
     "data": {
      "image/png": "[encoded data removed]",
      "text/plain": [
       "<Figure size 432x288 with 2 Axes>"
      ]
     },
     "metadata": {
      "needs_background": "light"
     },
     "output_type": "display_data"
    }
   ],
   "source": [
    "# Get the true labels and predicted labels from the test set\n",
    "test_steps_per_epoch = np.math.ceil(test_generator.samples / test_generator.batch_size)\n",
    "predictions = model.predict(test_generator, steps=test_steps_per_epoch)\n",
    "y_pred = np.argmax(predictions, axis=1)\n",
    "y_true = test_generator.classes\n",
    "\n",
    "# Define a function to plot the confusion matrix\n",
    "def plot_confusion_matrix(cm, classes):\n",
    "    plt.imshow(cm, interpolation='nearest', cmap=plt.cm.Blues)\n",
    "    plt.colorbar()\n",
    "    tick_marks = np.arange(len(classes))\n",
    "    plt.xticks(tick_marks, classes, rotation=45)\n",
    "    plt.yticks(tick_marks, classes)\n",
    "    plt.xlabel('Predicted label')\n",
    "    plt.ylabel('True label')\n",
    "    thresh = cm.max() / 2.\n",
    "    for i, j in itertools.product(range(cm.shape[0]), range(cm.shape[1])):\n",
    "        plt.text(j, i, format(cm[i, j], 'd'), horizontalalignment=\"center\", color=\"white\" if cm[i, j] > thresh else \"black\")\n",
    "    plt.tight_layout()\n",
    "\n",
    "# Create a confusion matrix\n",
    "cm = confusion_matrix(y_true, y_pred)\n",
    "plot_confusion_matrix(cm, class_names)\n",
    "\n",
    "# Create a classification report\n",
    "class_names = list(test_generator.class_indices.keys())\n",
    "report = classification_report(y_true, y_pred, target_names=class_names)\n",
    "print('Classification Report:\\n', report)\n",
    "\n",
    "# Calculate the f1 score, recall and precision\n",
    "f1 = f1_score(y_true, y_pred, average='weighted')\n",
    "recall = recall_score(y_true, y_pred, average='weighted')\n",
    "accuracy = accuracy_score(y_true, y_pred)\n",
    "precision = precision_score(y_true, y_pred, average='weighted')\n",
    "print('F1 Score:', f1)\n",
    "print('Recall:', recall)\n",
    "print('Accuracy:', accuracy)\n",
    "print('Precision:', precision)"
   ]
  },
  {
   "cell_type": "code",
   "execution_count": 17,
   "metadata": {},
   "outputs": [
    {
     "data": {
      "image/png": "[encoded data removed]",
      "text/plain": [
       "<Figure size 720x720 with 2 Axes>"
      ]
     },
     "metadata": {
      "needs_background": "light"
     },
     "output_type": "display_data"
    }
   ],
   "source": [
    "# Plot the accuracy and loss curves\n",
    "acc = history.history['accuracy']\n",
    "val_acc = history.history['val_accuracy']\n",
    "loss = history.history['loss']\n",
    "val_loss = history.history['val_loss']\n",
    "epochs_range = range(epochs)\n",
    "\n",
    "plt.figure(figsize=(10, 10))\n",
    "plt.subplot(2, 1, 1)\n",
    "plt.plot(epochs_range, acc, label='Training Accuracy')\n",
    "plt.plot(epochs_range, val_acc, label='Validation Accuracy')\n",
    "plt.legend(loc='lower right')\n",
    "plt.title('Training and Validation Accuracy')\n",
    "\n",
    "plt.subplot(2, 1, 2)\n",
    "plt.plot(epochs_range, loss, label='Training Loss')\n",
    "plt.plot(epochs_range, val_loss, label='Validation Loss')\n",
    "plt.legend(loc='upper right')\n",
    "plt.title('Training and Validation Loss')\n",
    "plt.xlabel('Epoch')\n",
    "plt.show()"
   ]
  },
  {
   "cell_type": "code",
   "execution_count": 18,
   "metadata": {},
   "outputs": [],
   "source": [
    "#Launch TensroBoard in the command line\n",
    "#tensorboard --logdir=logs/"
   ]
  },
  {
   "cell_type": "code",
   "execution_count": null,
   "metadata": {},
   "outputs": [],
   "source": []
  }
 ],
 "metadata": {
  "kernelspec": {
   "display_name": "Python 3",
   "language": "python",
   "name": "python3"
  },
  "language_info": {
   "codemirror_mode": {
    "name": "ipython",
    "version": 3
   },
   "file_extension": ".py",
   "mimetype": "text/x-python",
   "name": "python",
   "nbconvert_exporter": "python",
   "pygments_lexer": "ipython3",
   "version": "3.8.5"
  }
 },
 "nbformat": 4,
 "nbformat_minor": 4
}
